{
 "cells": [
  {
   "cell_type": "code",
   "execution_count": 55,
   "metadata": {
    "execution": {
     "iopub.execute_input": "2021-09-29T16:23:25.545978Z",
     "iopub.status.busy": "2021-09-29T16:23:25.545751Z",
     "iopub.status.idle": "2021-09-29T16:23:27.078977Z",
     "shell.execute_reply": "2021-09-29T16:23:27.078277Z",
     "shell.execute_reply.started": "2021-09-29T16:23:25.545951Z"
    }
   },
   "outputs": [],
   "source": [
    "import numpy as np\n",
    "import pandas as pd\n",
    "import seaborn as sns\n",
    "import string\n",
    "# Natural Language tool kit\n",
    "import nltk\n",
    "from nltk.tokenize import word_tokenize\n",
    "from nltk.corpus import stopwords\n",
    "from nltk.stem import WordNetLemmatizer\n",
    "from bs4 import BeautifulSoup"
   ]
  },
  {
   "cell_type": "code",
   "execution_count": 56,
   "metadata": {
    "execution": {
     "iopub.execute_input": "2021-09-29T16:23:27.082382Z",
     "iopub.status.busy": "2021-09-29T16:23:27.082169Z",
     "iopub.status.idle": "2021-09-29T16:23:27.157065Z",
     "shell.execute_reply": "2021-09-29T16:23:27.156358Z",
     "shell.execute_reply.started": "2021-09-29T16:23:27.082357Z"
    }
   },
   "outputs": [],
   "source": [
    "train_df = pd.read_csv(r'C:\\Users\\Aditya Kumar\\Documents\\Apllied ML\\train.csv')\n",
    "test_df = pd.read_csv(r'C:\\Users\\Aditya Kumar\\Documents\\Apllied ML\\test.csv')"
   ]
  },
  {
   "cell_type": "markdown",
   "metadata": {},
   "source": [
    "### Exploring the dataset"
   ]
  },
  {
   "cell_type": "code",
   "execution_count": 57,
   "metadata": {
    "execution": {
     "iopub.execute_input": "2021-09-29T16:23:27.158582Z",
     "iopub.status.busy": "2021-09-29T16:23:27.158326Z",
     "iopub.status.idle": "2021-09-29T16:23:27.184181Z",
     "shell.execute_reply": "2021-09-29T16:23:27.183544Z",
     "shell.execute_reply.started": "2021-09-29T16:23:27.158551Z"
    }
   },
   "outputs": [
    {
     "data": {
      "text/html": [
       "<div>\n",
       "<style scoped>\n",
       "    .dataframe tbody tr th:only-of-type {\n",
       "        vertical-align: middle;\n",
       "    }\n",
       "\n",
       "    .dataframe tbody tr th {\n",
       "        vertical-align: top;\n",
       "    }\n",
       "\n",
       "    .dataframe thead th {\n",
       "        text-align: right;\n",
       "    }\n",
       "</style>\n",
       "<table border=\"1\" class=\"dataframe\">\n",
       "  <thead>\n",
       "    <tr style=\"text-align: right;\">\n",
       "      <th></th>\n",
       "      <th>id</th>\n",
       "      <th>keyword</th>\n",
       "      <th>location</th>\n",
       "      <th>text</th>\n",
       "      <th>target</th>\n",
       "    </tr>\n",
       "  </thead>\n",
       "  <tbody>\n",
       "    <tr>\n",
       "      <th>0</th>\n",
       "      <td>1</td>\n",
       "      <td>NaN</td>\n",
       "      <td>NaN</td>\n",
       "      <td>Our Deeds are the Reason of this #earthquake M...</td>\n",
       "      <td>1</td>\n",
       "    </tr>\n",
       "    <tr>\n",
       "      <th>1</th>\n",
       "      <td>4</td>\n",
       "      <td>NaN</td>\n",
       "      <td>NaN</td>\n",
       "      <td>Forest fire near La Ronge Sask. Canada</td>\n",
       "      <td>1</td>\n",
       "    </tr>\n",
       "    <tr>\n",
       "      <th>2</th>\n",
       "      <td>5</td>\n",
       "      <td>NaN</td>\n",
       "      <td>NaN</td>\n",
       "      <td>All residents asked to 'shelter in place' are ...</td>\n",
       "      <td>1</td>\n",
       "    </tr>\n",
       "    <tr>\n",
       "      <th>3</th>\n",
       "      <td>6</td>\n",
       "      <td>NaN</td>\n",
       "      <td>NaN</td>\n",
       "      <td>13,000 people receive #wildfires evacuation or...</td>\n",
       "      <td>1</td>\n",
       "    </tr>\n",
       "    <tr>\n",
       "      <th>4</th>\n",
       "      <td>7</td>\n",
       "      <td>NaN</td>\n",
       "      <td>NaN</td>\n",
       "      <td>Just got sent this photo from Ruby #Alaska as ...</td>\n",
       "      <td>1</td>\n",
       "    </tr>\n",
       "  </tbody>\n",
       "</table>\n",
       "</div>"
      ],
      "text/plain": [
       "   id keyword location                                               text  \\\n",
       "0   1     NaN      NaN  Our Deeds are the Reason of this #earthquake M...   \n",
       "1   4     NaN      NaN             Forest fire near La Ronge Sask. Canada   \n",
       "2   5     NaN      NaN  All residents asked to 'shelter in place' are ...   \n",
       "3   6     NaN      NaN  13,000 people receive #wildfires evacuation or...   \n",
       "4   7     NaN      NaN  Just got sent this photo from Ruby #Alaska as ...   \n",
       "\n",
       "   target  \n",
       "0       1  \n",
       "1       1  \n",
       "2       1  \n",
       "3       1  \n",
       "4       1  "
      ]
     },
     "execution_count": 57,
     "metadata": {},
     "output_type": "execute_result"
    }
   ],
   "source": [
    "train_df.head()"
   ]
  },
  {
   "cell_type": "code",
   "execution_count": 58,
   "metadata": {
    "execution": {
     "iopub.execute_input": "2021-09-29T16:23:27.186593Z",
     "iopub.status.busy": "2021-09-29T16:23:27.186331Z",
     "iopub.status.idle": "2021-09-29T16:23:27.197876Z",
     "shell.execute_reply": "2021-09-29T16:23:27.196733Z",
     "shell.execute_reply.started": "2021-09-29T16:23:27.186562Z"
    }
   },
   "outputs": [
    {
     "data": {
      "text/html": [
       "<div>\n",
       "<style scoped>\n",
       "    .dataframe tbody tr th:only-of-type {\n",
       "        vertical-align: middle;\n",
       "    }\n",
       "\n",
       "    .dataframe tbody tr th {\n",
       "        vertical-align: top;\n",
       "    }\n",
       "\n",
       "    .dataframe thead th {\n",
       "        text-align: right;\n",
       "    }\n",
       "</style>\n",
       "<table border=\"1\" class=\"dataframe\">\n",
       "  <thead>\n",
       "    <tr style=\"text-align: right;\">\n",
       "      <th></th>\n",
       "      <th>id</th>\n",
       "      <th>keyword</th>\n",
       "      <th>location</th>\n",
       "      <th>text</th>\n",
       "    </tr>\n",
       "  </thead>\n",
       "  <tbody>\n",
       "    <tr>\n",
       "      <th>0</th>\n",
       "      <td>0</td>\n",
       "      <td>NaN</td>\n",
       "      <td>NaN</td>\n",
       "      <td>Just happened a terrible car crash</td>\n",
       "    </tr>\n",
       "    <tr>\n",
       "      <th>1</th>\n",
       "      <td>2</td>\n",
       "      <td>NaN</td>\n",
       "      <td>NaN</td>\n",
       "      <td>Heard about #earthquake is different cities, s...</td>\n",
       "    </tr>\n",
       "    <tr>\n",
       "      <th>2</th>\n",
       "      <td>3</td>\n",
       "      <td>NaN</td>\n",
       "      <td>NaN</td>\n",
       "      <td>there is a forest fire at spot pond, geese are...</td>\n",
       "    </tr>\n",
       "    <tr>\n",
       "      <th>3</th>\n",
       "      <td>9</td>\n",
       "      <td>NaN</td>\n",
       "      <td>NaN</td>\n",
       "      <td>Apocalypse lighting. #Spokane #wildfires</td>\n",
       "    </tr>\n",
       "    <tr>\n",
       "      <th>4</th>\n",
       "      <td>11</td>\n",
       "      <td>NaN</td>\n",
       "      <td>NaN</td>\n",
       "      <td>Typhoon Soudelor kills 28 in China and Taiwan</td>\n",
       "    </tr>\n",
       "  </tbody>\n",
       "</table>\n",
       "</div>"
      ],
      "text/plain": [
       "   id keyword location                                               text\n",
       "0   0     NaN      NaN                 Just happened a terrible car crash\n",
       "1   2     NaN      NaN  Heard about #earthquake is different cities, s...\n",
       "2   3     NaN      NaN  there is a forest fire at spot pond, geese are...\n",
       "3   9     NaN      NaN           Apocalypse lighting. #Spokane #wildfires\n",
       "4  11     NaN      NaN      Typhoon Soudelor kills 28 in China and Taiwan"
      ]
     },
     "execution_count": 58,
     "metadata": {},
     "output_type": "execute_result"
    }
   ],
   "source": [
    "test_df.head()"
   ]
  },
  {
   "cell_type": "code",
   "execution_count": 59,
   "metadata": {
    "execution": {
     "iopub.execute_input": "2021-09-29T16:23:27.199676Z",
     "iopub.status.busy": "2021-09-29T16:23:27.199235Z",
     "iopub.status.idle": "2021-09-29T16:23:27.22318Z",
     "shell.execute_reply": "2021-09-29T16:23:27.222463Z",
     "shell.execute_reply.started": "2021-09-29T16:23:27.199532Z"
    }
   },
   "outputs": [
    {
     "name": "stdout",
     "output_type": "stream",
     "text": [
      "<class 'pandas.core.frame.DataFrame'>\n",
      "RangeIndex: 7613 entries, 0 to 7612\n",
      "Data columns (total 5 columns):\n",
      " #   Column    Non-Null Count  Dtype \n",
      "---  ------    --------------  ----- \n",
      " 0   id        7613 non-null   int64 \n",
      " 1   keyword   7552 non-null   object\n",
      " 2   location  5080 non-null   object\n",
      " 3   text      7613 non-null   object\n",
      " 4   target    7613 non-null   int64 \n",
      "dtypes: int64(2), object(3)\n",
      "memory usage: 297.5+ KB\n"
     ]
    }
   ],
   "source": [
    "train_df.info()"
   ]
  },
  {
   "cell_type": "code",
   "execution_count": 60,
   "metadata": {
    "execution": {
     "iopub.execute_input": "2021-09-29T16:23:27.225337Z",
     "iopub.status.busy": "2021-09-29T16:23:27.225087Z",
     "iopub.status.idle": "2021-09-29T16:23:27.238485Z",
     "shell.execute_reply": "2021-09-29T16:23:27.237334Z",
     "shell.execute_reply.started": "2021-09-29T16:23:27.22529Z"
    }
   },
   "outputs": [
    {
     "data": {
      "text/plain": [
       "id             0\n",
       "keyword       61\n",
       "location    2533\n",
       "text           0\n",
       "target         0\n",
       "dtype: int64"
      ]
     },
     "execution_count": 60,
     "metadata": {},
     "output_type": "execute_result"
    }
   ],
   "source": [
    "train_df.isnull().sum()"
   ]
  },
  {
   "cell_type": "code",
   "execution_count": 61,
   "metadata": {
    "execution": {
     "iopub.execute_input": "2021-09-29T16:23:27.240338Z",
     "iopub.status.busy": "2021-09-29T16:23:27.240096Z",
     "iopub.status.idle": "2021-09-29T16:23:27.669968Z",
     "shell.execute_reply": "2021-09-29T16:23:27.669302Z",
     "shell.execute_reply.started": "2021-09-29T16:23:27.240291Z"
    }
   },
   "outputs": [
    {
     "data": {
      "text/plain": [
       "<matplotlib.axes._subplots.AxesSubplot at 0x27f0d2ddc88>"
      ]
     },
     "execution_count": 61,
     "metadata": {},
     "output_type": "execute_result"
    },
    {
     "data": {
      "image/png": "[encoded data removed]",
      "text/plain": [
       "<Figure size 432x288 with 2 Axes>"
      ]
     },
     "metadata": {
      "needs_background": "light"
     },
     "output_type": "display_data"
    }
   ],
   "source": [
    "sns.heatmap(train_df.isnull())"
   ]
  },
  {
   "cell_type": "code",
   "execution_count": 62,
   "metadata": {
    "execution": {
     "iopub.execute_input": "2021-09-29T16:23:27.671601Z",
     "iopub.status.busy": "2021-09-29T16:23:27.671329Z",
     "iopub.status.idle": "2021-09-29T16:23:27.675738Z",
     "shell.execute_reply": "2021-09-29T16:23:27.674863Z",
     "shell.execute_reply.started": "2021-09-29T16:23:27.671569Z"
    }
   },
   "outputs": [],
   "source": [
    "total = train_df.shape[0]"
   ]
  },
  {
   "cell_type": "markdown",
   "metadata": {},
   "source": [
    "we can see that most of the Null values are from Location and few are from keyword "
   ]
  },
  {
   "cell_type": "code",
   "execution_count": 63,
   "metadata": {
    "execution": {
     "iopub.execute_input": "2021-09-29T16:23:27.677322Z",
     "iopub.status.busy": "2021-09-29T16:23:27.677068Z",
     "iopub.status.idle": "2021-09-29T16:23:27.704032Z",
     "shell.execute_reply": "2021-09-29T16:23:27.703259Z",
     "shell.execute_reply.started": "2021-09-29T16:23:27.677291Z"
    }
   },
   "outputs": [
    {
     "data": {
      "text/plain": [
       "id          0.000000\n",
       "keyword     0.008013\n",
       "location    0.332720\n",
       "text        0.000000\n",
       "target      0.000000\n",
       "dtype: float64"
      ]
     },
     "execution_count": 63,
     "metadata": {},
     "output_type": "execute_result"
    }
   ],
   "source": [
    "train_df.isnull().sum()/(train_df.shape[0])"
   ]
  },
  {
   "cell_type": "markdown",
   "metadata": {},
   "source": [
    "we can see that 0.33% of Null values are missing which is huge amount which will make huge prediction errors, also location data might not be as useful so we can drop the data"
   ]
  },
  {
   "cell_type": "code",
   "execution_count": 64,
   "metadata": {
    "execution": {
     "iopub.execute_input": "2021-09-29T16:23:27.705558Z",
     "iopub.status.busy": "2021-09-29T16:23:27.705284Z",
     "iopub.status.idle": "2021-09-29T16:23:27.711705Z",
     "shell.execute_reply": "2021-09-29T16:23:27.710727Z",
     "shell.execute_reply.started": "2021-09-29T16:23:27.705524Z"
    }
   },
   "outputs": [],
   "source": [
    "train_df.drop(['location'],axis=1,inplace=True)"
   ]
  },
  {
   "cell_type": "code",
   "execution_count": 65,
   "metadata": {
    "execution": {
     "iopub.execute_input": "2021-09-29T16:23:27.71484Z",
     "iopub.status.busy": "2021-09-29T16:23:27.714057Z",
     "iopub.status.idle": "2021-09-29T16:23:27.721461Z",
     "shell.execute_reply": "2021-09-29T16:23:27.720743Z",
     "shell.execute_reply.started": "2021-09-29T16:23:27.714805Z"
    }
   },
   "outputs": [],
   "source": [
    "p = train_df['target'].value_counts()/(train_df.shape[0])"
   ]
  },
  {
   "cell_type": "code",
   "execution_count": 66,
   "metadata": {
    "execution": {
     "iopub.execute_input": "2021-09-29T16:23:27.723171Z",
     "iopub.status.busy": "2021-09-29T16:23:27.722905Z",
     "iopub.status.idle": "2021-09-29T16:23:27.89198Z",
     "shell.execute_reply": "2021-09-29T16:23:27.891156Z",
     "shell.execute_reply.started": "2021-09-29T16:23:27.72313Z"
    }
   },
   "outputs": [
    {
     "data": {
      "image/png": "[encoded data removed]",
      "text/plain": [
       "<Figure size 432x288 with 1 Axes>"
      ]
     },
     "metadata": {
      "needs_background": "light"
     },
     "output_type": "display_data"
    }
   ],
   "source": [
    "\n",
    "ax = sns.countplot(y = 'target',data=train_df)\n",
    "\n",
    "for p in ax.patches:\n",
    "    percent = '{:.1f}%'.format(100*(p.get_width()/total))\n",
    "    x = p.get_x()+p.get_width()\n",
    "    y = p.get_y()+(p.get_height())/2\n",
    "    ax.annotate(percent,(x,y))\n"
   ]
  },
  {
   "cell_type": "markdown",
   "metadata": {},
   "source": [
    "we can see that data is balanced"
   ]
  },
  {
   "cell_type": "code",
   "execution_count": 67,
   "metadata": {
    "execution": {
     "iopub.execute_input": "2021-09-29T16:23:27.896123Z",
     "iopub.status.busy": "2021-09-29T16:23:27.895627Z",
     "iopub.status.idle": "2021-09-29T16:23:27.912179Z",
     "shell.execute_reply": "2021-09-29T16:23:27.911474Z",
     "shell.execute_reply.started": "2021-09-29T16:23:27.896093Z"
    }
   },
   "outputs": [
    {
     "data": {
      "text/html": [
       "<div>\n",
       "<style scoped>\n",
       "    .dataframe tbody tr th:only-of-type {\n",
       "        vertical-align: middle;\n",
       "    }\n",
       "\n",
       "    .dataframe tbody tr th {\n",
       "        vertical-align: top;\n",
       "    }\n",
       "\n",
       "    .dataframe thead th {\n",
       "        text-align: right;\n",
       "    }\n",
       "</style>\n",
       "<table border=\"1\" class=\"dataframe\">\n",
       "  <thead>\n",
       "    <tr style=\"text-align: right;\">\n",
       "      <th></th>\n",
       "      <th>id</th>\n",
       "      <th>keyword</th>\n",
       "      <th>text</th>\n",
       "      <th>target</th>\n",
       "    </tr>\n",
       "  </thead>\n",
       "  <tbody>\n",
       "    <tr>\n",
       "      <th>15</th>\n",
       "      <td>23</td>\n",
       "      <td>NaN</td>\n",
       "      <td>What's up man?</td>\n",
       "      <td>0</td>\n",
       "    </tr>\n",
       "    <tr>\n",
       "      <th>16</th>\n",
       "      <td>24</td>\n",
       "      <td>NaN</td>\n",
       "      <td>I love fruits</td>\n",
       "      <td>0</td>\n",
       "    </tr>\n",
       "    <tr>\n",
       "      <th>17</th>\n",
       "      <td>25</td>\n",
       "      <td>NaN</td>\n",
       "      <td>Summer is lovely</td>\n",
       "      <td>0</td>\n",
       "    </tr>\n",
       "    <tr>\n",
       "      <th>18</th>\n",
       "      <td>26</td>\n",
       "      <td>NaN</td>\n",
       "      <td>My car is so fast</td>\n",
       "      <td>0</td>\n",
       "    </tr>\n",
       "    <tr>\n",
       "      <th>19</th>\n",
       "      <td>28</td>\n",
       "      <td>NaN</td>\n",
       "      <td>What a goooooooaaaaaal!!!!!!</td>\n",
       "      <td>0</td>\n",
       "    </tr>\n",
       "    <tr>\n",
       "      <th>...</th>\n",
       "      <td>...</td>\n",
       "      <td>...</td>\n",
       "      <td>...</td>\n",
       "      <td>...</td>\n",
       "    </tr>\n",
       "    <tr>\n",
       "      <th>7581</th>\n",
       "      <td>10833</td>\n",
       "      <td>wrecked</td>\n",
       "      <td>@engineshed Great atmosphere at the British Li...</td>\n",
       "      <td>0</td>\n",
       "    </tr>\n",
       "    <tr>\n",
       "      <th>7582</th>\n",
       "      <td>10834</td>\n",
       "      <td>wrecked</td>\n",
       "      <td>Cramer: Iger's 3 words that wrecked Disney's s...</td>\n",
       "      <td>0</td>\n",
       "    </tr>\n",
       "    <tr>\n",
       "      <th>7584</th>\n",
       "      <td>10837</td>\n",
       "      <td>NaN</td>\n",
       "      <td>These boxes are ready to explode! Exploding Ki...</td>\n",
       "      <td>0</td>\n",
       "    </tr>\n",
       "    <tr>\n",
       "      <th>7587</th>\n",
       "      <td>10841</td>\n",
       "      <td>NaN</td>\n",
       "      <td>Sirens everywhere!</td>\n",
       "      <td>0</td>\n",
       "    </tr>\n",
       "    <tr>\n",
       "      <th>7593</th>\n",
       "      <td>10848</td>\n",
       "      <td>NaN</td>\n",
       "      <td>I just heard a really loud bang and everyone i...</td>\n",
       "      <td>0</td>\n",
       "    </tr>\n",
       "  </tbody>\n",
       "</table>\n",
       "<p>4342 rows × 4 columns</p>\n",
       "</div>"
      ],
      "text/plain": [
       "         id  keyword                                               text  \\\n",
       "15       23      NaN                                     What's up man?   \n",
       "16       24      NaN                                      I love fruits   \n",
       "17       25      NaN                                   Summer is lovely   \n",
       "18       26      NaN                                  My car is so fast   \n",
       "19       28      NaN                       What a goooooooaaaaaal!!!!!!   \n",
       "...     ...      ...                                                ...   \n",
       "7581  10833  wrecked  @engineshed Great atmosphere at the British Li...   \n",
       "7582  10834  wrecked  Cramer: Iger's 3 words that wrecked Disney's s...   \n",
       "7584  10837      NaN  These boxes are ready to explode! Exploding Ki...   \n",
       "7587  10841      NaN                                 Sirens everywhere!   \n",
       "7593  10848      NaN  I just heard a really loud bang and everyone i...   \n",
       "\n",
       "      target  \n",
       "15         0  \n",
       "16         0  \n",
       "17         0  \n",
       "18         0  \n",
       "19         0  \n",
       "...      ...  \n",
       "7581       0  \n",
       "7582       0  \n",
       "7584       0  \n",
       "7587       0  \n",
       "7593       0  \n",
       "\n",
       "[4342 rows x 4 columns]"
      ]
     },
     "execution_count": 67,
     "metadata": {},
     "output_type": "execute_result"
    }
   ],
   "source": [
    "train_df[train_df['target'] == 0]"
   ]
  },
  {
   "cell_type": "code",
   "execution_count": 68,
   "metadata": {
    "execution": {
     "iopub.execute_input": "2021-09-29T16:23:27.914104Z",
     "iopub.status.busy": "2021-09-29T16:23:27.913652Z",
     "iopub.status.idle": "2021-09-29T16:23:27.922318Z",
     "shell.execute_reply": "2021-09-29T16:23:27.921578Z",
     "shell.execute_reply.started": "2021-09-29T16:23:27.914068Z"
    }
   },
   "outputs": [],
   "source": [
    "train_df['keyword'].dropna(inplace=True)"
   ]
  },
  {
   "cell_type": "markdown",
   "metadata": {},
   "source": [
    "we can use text column to train the model, the words inside the text can indicate it is a disaster or not so we are using countvector to count the words in the tweet and turn them into data"
   ]
  },
  {
   "cell_type": "markdown",
   "metadata": {},
   "source": [
    "### Next Step is Preprocessing of data in NLP.\n",
    "\n",
    "Preprocessing of data might vary for each use cases in NLP.here we can see from the above special characters, email id and twitter user name with many complex string are given to process.We first get data between a email like\n",
    "\n",
    "\" @shawn Titanic tragedy could have been prevented Economic Times: Telegraph.co.ukTitanic tragedy could have been preve... http://bet.ly/tuN2wx\"\n",
    "\n",
    "we have to get string like \"Titanic tragedy could have been prevented Economic Times Telegraph co ukTitanic tragedy could have been preve\""
   ]
  },
  {
   "cell_type": "code",
   "execution_count": 69,
   "metadata": {
    "execution": {
     "iopub.execute_input": "2021-09-29T16:23:27.924113Z",
     "iopub.status.busy": "2021-09-29T16:23:27.92383Z",
     "iopub.status.idle": "2021-09-29T16:23:27.931587Z",
     "shell.execute_reply": "2021-09-29T16:23:27.930861Z",
     "shell.execute_reply.started": "2021-09-29T16:23:27.92408Z"
    }
   },
   "outputs": [],
   "source": [
    "import re\n"
   ]
  },
  {
   "cell_type": "code",
   "execution_count": 70,
   "metadata": {
    "execution": {
     "iopub.execute_input": "2021-09-29T16:23:27.934982Z",
     "iopub.status.busy": "2021-09-29T16:23:27.934782Z",
     "iopub.status.idle": "2021-09-29T16:23:27.941439Z",
     "shell.execute_reply": "2021-09-29T16:23:27.940419Z",
     "shell.execute_reply.started": "2021-09-29T16:23:27.934959Z"
    }
   },
   "outputs": [],
   "source": [
    "## Removing URL's\n",
    "def remove_url(text):\n",
    "    newtext=\" \".join(re.sub(\"(@[A-Za-z0-9]+)|([^0-9A-Za-z \\t])|(\\w+:\\/\\/\\S+)\",\" \",text).split())\n",
    "    return newtext"
   ]
  },
  {
   "cell_type": "markdown",
   "metadata": {},
   "source": [
    "Since the model can't classify strings having special charecter and emails. we are using regular expresion to remove\n",
    "\n",
    "'(@[A-Za-z0-9]+)' indicates the string starts with @ and the string should contain Capital, small, number.'+' indicates it canbe one or more occurance of [A-Za-z0-9] thus giving @bbcmtd\n",
    "\n",
    "'([^0-9A-Za-z \\t])' indicates the string should not contain small letter, capital letter, and numbers and '\\t' indicates Tabs.THus giving all the special characters like '.,:,-' etc.\n",
    "\n",
    "'(\\w+:\\/\\/\\S+)' '\\w' indicates the string should have the character of letters and numbers,'+' indicates one or more characters,followed by :'\\' indicates escape which escapes / and followed by similar patter then '\\S' indicates one non whitspace character.'+' indicatesz one or more of '\\S' thus giving http://t.co/lHYXEOHY6C'\n",
    "\n",
    "in order to get ms with formating we are replacing all the above regular exxpression answers with \" \" by using re.sub.\n",
    "\n",
    "spliting would give the letters in list and \" \".join will give sting with space. \n"
   ]
  },
  {
   "cell_type": "code",
   "execution_count": 71,
   "metadata": {
    "execution": {
     "iopub.execute_input": "2021-09-29T16:23:27.942679Z",
     "iopub.status.busy": "2021-09-29T16:23:27.94248Z",
     "iopub.status.idle": "2021-09-29T16:23:27.952582Z",
     "shell.execute_reply": "2021-09-29T16:23:27.951711Z",
     "shell.execute_reply.started": "2021-09-29T16:23:27.942657Z"
    }
   },
   "outputs": [],
   "source": [
    "## Making text to Lower case\n",
    "def lower_case(text):\n",
    "    return text.lower()\n",
    "\n",
    "def butiful(text):\n",
    "    text = BeautifulSoup(text).get_text()\n",
    "    return text\n",
    "\n",
    "## Removing numbers\n",
    "def remove_num(text):\n",
    "    newtext= re.sub(r'\\d+',\"\",text)\n",
    "    return newtext\n",
    "\n",
    "## removing punctuation\n",
    "def remove_punc(text):\n",
    "    trans = str.maketrans(\"\",\"\",string.punctuation)\n",
    "    return text.translate(trans)\n"
   ]
  },
  {
   "cell_type": "markdown",
   "metadata": {},
   "source": [
    "### Preprocessing NLP methods\n",
    "\n",
    "The most common preprocessing methods are:\n",
    "\n",
    "> Tokenize (tokenizing means spliting string into words)\n",
    "\n",
    "> Lemmatize (Lemmatizeing given bu eg: if we have a word (learn,learning) learning can be lemmatized to learn.)\n",
    "\n",
    "> Removing stop words (stop wordsa are joining words used to join the text like(is,was,and,or etc.))"
   ]
  },
  {
   "cell_type": "code",
   "execution_count": 72,
   "metadata": {
    "execution": {
     "iopub.execute_input": "2021-09-29T16:23:27.9543Z",
     "iopub.status.busy": "2021-09-29T16:23:27.95391Z",
     "iopub.status.idle": "2021-09-29T16:23:27.963781Z",
     "shell.execute_reply": "2021-09-29T16:23:27.962892Z",
     "shell.execute_reply.started": "2021-09-29T16:23:27.954263Z"
    }
   },
   "outputs": [],
   "source": [
    "#Tokenizing\n",
    "def tokenize(text):\n",
    "    text = word_tokenize(text)\n",
    "    return text\n",
    "\n",
    "# Removing Stop Words\n",
    "def remove_stop(text):\n",
    "    text  = [i for i in text if not i in stopwords.words('english')]\n",
    "    return text\n",
    "\n",
    "#Lemmatize\n",
    "\n",
    "word_lem = WordNetLemmatizer()\n",
    "#we are using recursive call since for eg: calling can be writen as (called,caller,call). So we are lemmatizing into the word call\n",
    "def Lemmatize(text):\n",
    "    text = [word_lem.lemmatize(token) for token in text]\n",
    "    return text\n",
    "\n",
    "# Preprocessing\n",
    "\n",
    "def preprocess(text):\n",
    "    text = remove_url(text)\n",
    "    text = butiful(text)\n",
    "    text = lower_case(text)\n",
    "    text = remove_num(text)\n",
    "    text = remove_punc(text)\n",
    "    text = tokenize(text)\n",
    "    text = remove_stop(text)\n",
    "    text = Lemmatize(text)\n",
    "    text = \" \".join(text)\n",
    "    return text"
   ]
  },
  {
   "cell_type": "code",
   "execution_count": 73,
   "metadata": {},
   "outputs": [
    {
     "name": "stderr",
     "output_type": "stream",
     "text": [
      "[nltk_data] Downloading package wordnet to C:\\Users\\Aditya\n",
      "[nltk_data]     Kumar\\AppData\\Roaming\\nltk_data...\n",
      "[nltk_data]   Package wordnet is already up-to-date!\n"
     ]
    },
    {
     "data": {
      "text/plain": [
       "True"
      ]
     },
     "execution_count": 73,
     "metadata": {},
     "output_type": "execute_result"
    }
   ],
   "source": [
    "nltk.download('wordnet')"
   ]
  },
  {
   "cell_type": "markdown",
   "metadata": {},
   "source": [
    "### Train Preprocessing"
   ]
  },
  {
   "cell_type": "code",
   "execution_count": 74,
   "metadata": {
    "execution": {
     "iopub.execute_input": "2021-09-29T16:23:27.965658Z",
     "iopub.status.busy": "2021-09-29T16:23:27.965394Z",
     "iopub.status.idle": "2021-09-29T16:23:46.771906Z",
     "shell.execute_reply": "2021-09-29T16:23:46.770981Z",
     "shell.execute_reply.started": "2021-09-29T16:23:27.965626Z"
    }
   },
   "outputs": [],
   "source": [
    "train_preprocess = []\n",
    "for i in train_df['text']:\n",
    "    text_data = preprocess(i)\n",
    "    train_preprocess.append(text_data)\n",
    "train_df['processed_text'] = train_preprocess"
   ]
  },
  {
   "cell_type": "code",
   "execution_count": 75,
   "metadata": {
    "execution": {
     "iopub.execute_input": "2021-09-29T16:23:46.928528Z",
     "iopub.status.busy": "2021-09-29T16:23:46.928018Z",
     "iopub.status.idle": "2021-09-29T16:23:46.937507Z",
     "shell.execute_reply": "2021-09-29T16:23:46.936818Z",
     "shell.execute_reply.started": "2021-09-29T16:23:46.92849Z"
    }
   },
   "outputs": [
    {
     "name": "stderr",
     "output_type": "stream",
     "text": [
      "[nltk_data] Downloading package stopwords to C:\\Users\\Aditya\n",
      "[nltk_data]     Kumar\\AppData\\Roaming\\nltk_data...\n",
      "[nltk_data]   Package stopwords is already up-to-date!\n"
     ]
    },
    {
     "data": {
      "text/plain": [
       "True"
      ]
     },
     "execution_count": 75,
     "metadata": {},
     "output_type": "execute_result"
    }
   ],
   "source": [
    "nltk.download('stopwords')"
   ]
  },
  {
   "cell_type": "markdown",
   "metadata": {},
   "source": [
    "### Test Data Preprocessing"
   ]
  },
  {
   "cell_type": "code",
   "execution_count": 76,
   "metadata": {
    "execution": {
     "iopub.execute_input": "2021-09-29T16:23:46.981293Z",
     "iopub.status.busy": "2021-09-29T16:23:46.981019Z",
     "iopub.status.idle": "2021-09-29T16:23:47.00034Z",
     "shell.execute_reply": "2021-09-29T16:23:46.999336Z",
     "shell.execute_reply.started": "2021-09-29T16:23:46.98126Z"
    }
   },
   "outputs": [
    {
     "name": "stdout",
     "output_type": "stream",
     "text": [
      "<class 'pandas.core.frame.DataFrame'>\n",
      "RangeIndex: 3263 entries, 0 to 3262\n",
      "Data columns (total 4 columns):\n",
      " #   Column    Non-Null Count  Dtype \n",
      "---  ------    --------------  ----- \n",
      " 0   id        3263 non-null   int64 \n",
      " 1   keyword   3237 non-null   object\n",
      " 2   location  2158 non-null   object\n",
      " 3   text      3263 non-null   object\n",
      "dtypes: int64(1), object(3)\n",
      "memory usage: 102.1+ KB\n",
      "(3263, 4) id             0\n",
      "keyword       26\n",
      "location    1105\n",
      "text           0\n",
      "dtype: int64 None\n"
     ]
    }
   ],
   "source": [
    "a = test_df.shape\n",
    "b = test_df.isnull().sum()\n",
    "c = test_df.info()\n",
    "print(a,b,c)"
   ]
  },
  {
   "cell_type": "code",
   "execution_count": 77,
   "metadata": {},
   "outputs": [],
   "source": [
    "test_preprocess = []\n",
    "for i in test_df['text']:\n",
    "    text_data = preprocess(i)\n",
    "    test_preprocess.append(text_data)\n",
    "test_df['processed_text'] = test_preprocess"
   ]
  },
  {
   "cell_type": "code",
   "execution_count": 78,
   "metadata": {
    "execution": {
     "iopub.execute_input": "2021-09-29T16:23:47.012059Z",
     "iopub.status.busy": "2021-09-29T16:23:47.01172Z",
     "iopub.status.idle": "2021-09-29T16:23:47.020195Z",
     "shell.execute_reply": "2021-09-29T16:23:47.0195Z",
     "shell.execute_reply.started": "2021-09-29T16:23:47.012022Z"
    }
   },
   "outputs": [],
   "source": [
    "test_df['keyword'].dropna(inplace=True)"
   ]
  },
  {
   "cell_type": "code",
   "execution_count": 79,
   "metadata": {
    "execution": {
     "iopub.execute_input": "2021-09-29T16:23:54.685189Z",
     "iopub.status.busy": "2021-09-29T16:23:54.684966Z",
     "iopub.status.idle": "2021-09-29T16:23:54.695179Z",
     "shell.execute_reply": "2021-09-29T16:23:54.694527Z",
     "shell.execute_reply.started": "2021-09-29T16:23:54.685158Z"
    }
   },
   "outputs": [
    {
     "data": {
      "text/html": [
       "<div>\n",
       "<style scoped>\n",
       "    .dataframe tbody tr th:only-of-type {\n",
       "        vertical-align: middle;\n",
       "    }\n",
       "\n",
       "    .dataframe tbody tr th {\n",
       "        vertical-align: top;\n",
       "    }\n",
       "\n",
       "    .dataframe thead th {\n",
       "        text-align: right;\n",
       "    }\n",
       "</style>\n",
       "<table border=\"1\" class=\"dataframe\">\n",
       "  <thead>\n",
       "    <tr style=\"text-align: right;\">\n",
       "      <th></th>\n",
       "      <th>id</th>\n",
       "      <th>keyword</th>\n",
       "      <th>text</th>\n",
       "      <th>target</th>\n",
       "      <th>processed_text</th>\n",
       "    </tr>\n",
       "  </thead>\n",
       "  <tbody>\n",
       "    <tr>\n",
       "      <th>0</th>\n",
       "      <td>1</td>\n",
       "      <td>NaN</td>\n",
       "      <td>Our Deeds are the Reason of this #earthquake M...</td>\n",
       "      <td>1</td>\n",
       "      <td>deed reason earthquake may allah forgive u</td>\n",
       "    </tr>\n",
       "    <tr>\n",
       "      <th>1</th>\n",
       "      <td>4</td>\n",
       "      <td>NaN</td>\n",
       "      <td>Forest fire near La Ronge Sask. Canada</td>\n",
       "      <td>1</td>\n",
       "      <td>forest fire near la ronge sask canada</td>\n",
       "    </tr>\n",
       "    <tr>\n",
       "      <th>2</th>\n",
       "      <td>5</td>\n",
       "      <td>NaN</td>\n",
       "      <td>All residents asked to 'shelter in place' are ...</td>\n",
       "      <td>1</td>\n",
       "      <td>resident asked shelter place notified officer ...</td>\n",
       "    </tr>\n",
       "    <tr>\n",
       "      <th>3</th>\n",
       "      <td>6</td>\n",
       "      <td>NaN</td>\n",
       "      <td>13,000 people receive #wildfires evacuation or...</td>\n",
       "      <td>1</td>\n",
       "      <td>people receive wildfire evacuation order calif...</td>\n",
       "    </tr>\n",
       "    <tr>\n",
       "      <th>4</th>\n",
       "      <td>7</td>\n",
       "      <td>NaN</td>\n",
       "      <td>Just got sent this photo from Ruby #Alaska as ...</td>\n",
       "      <td>1</td>\n",
       "      <td>got sent photo ruby alaska smoke wildfire pour...</td>\n",
       "    </tr>\n",
       "  </tbody>\n",
       "</table>\n",
       "</div>"
      ],
      "text/plain": [
       "   id keyword                                               text  target  \\\n",
       "0   1     NaN  Our Deeds are the Reason of this #earthquake M...       1   \n",
       "1   4     NaN             Forest fire near La Ronge Sask. Canada       1   \n",
       "2   5     NaN  All residents asked to 'shelter in place' are ...       1   \n",
       "3   6     NaN  13,000 people receive #wildfires evacuation or...       1   \n",
       "4   7     NaN  Just got sent this photo from Ruby #Alaska as ...       1   \n",
       "\n",
       "                                      processed_text  \n",
       "0         deed reason earthquake may allah forgive u  \n",
       "1              forest fire near la ronge sask canada  \n",
       "2  resident asked shelter place notified officer ...  \n",
       "3  people receive wildfire evacuation order calif...  \n",
       "4  got sent photo ruby alaska smoke wildfire pour...  "
      ]
     },
     "execution_count": 79,
     "metadata": {},
     "output_type": "execute_result"
    }
   ],
   "source": [
    "train_df.head()"
   ]
  },
  {
   "cell_type": "code",
   "execution_count": 80,
   "metadata": {
    "execution": {
     "iopub.execute_input": "2021-09-29T16:23:54.696882Z",
     "iopub.status.busy": "2021-09-29T16:23:54.696441Z",
     "iopub.status.idle": "2021-09-29T16:23:54.712975Z",
     "shell.execute_reply": "2021-09-29T16:23:54.712242Z",
     "shell.execute_reply.started": "2021-09-29T16:23:54.696846Z"
    }
   },
   "outputs": [
    {
     "data": {
      "text/html": [
       "<div>\n",
       "<style scoped>\n",
       "    .dataframe tbody tr th:only-of-type {\n",
       "        vertical-align: middle;\n",
       "    }\n",
       "\n",
       "    .dataframe tbody tr th {\n",
       "        vertical-align: top;\n",
       "    }\n",
       "\n",
       "    .dataframe thead th {\n",
       "        text-align: right;\n",
       "    }\n",
       "</style>\n",
       "<table border=\"1\" class=\"dataframe\">\n",
       "  <thead>\n",
       "    <tr style=\"text-align: right;\">\n",
       "      <th></th>\n",
       "      <th>id</th>\n",
       "      <th>keyword</th>\n",
       "      <th>location</th>\n",
       "      <th>text</th>\n",
       "      <th>processed_text</th>\n",
       "    </tr>\n",
       "  </thead>\n",
       "  <tbody>\n",
       "    <tr>\n",
       "      <th>0</th>\n",
       "      <td>0</td>\n",
       "      <td>NaN</td>\n",
       "      <td>NaN</td>\n",
       "      <td>Just happened a terrible car crash</td>\n",
       "      <td>happened terrible car crash</td>\n",
       "    </tr>\n",
       "    <tr>\n",
       "      <th>1</th>\n",
       "      <td>2</td>\n",
       "      <td>NaN</td>\n",
       "      <td>NaN</td>\n",
       "      <td>Heard about #earthquake is different cities, s...</td>\n",
       "      <td>heard earthquake different city stay safe ever...</td>\n",
       "    </tr>\n",
       "    <tr>\n",
       "      <th>2</th>\n",
       "      <td>3</td>\n",
       "      <td>NaN</td>\n",
       "      <td>NaN</td>\n",
       "      <td>there is a forest fire at spot pond, geese are...</td>\n",
       "      <td>forest fire spot pond goose fleeing across str...</td>\n",
       "    </tr>\n",
       "    <tr>\n",
       "      <th>3</th>\n",
       "      <td>9</td>\n",
       "      <td>NaN</td>\n",
       "      <td>NaN</td>\n",
       "      <td>Apocalypse lighting. #Spokane #wildfires</td>\n",
       "      <td>apocalypse lighting spokane wildfire</td>\n",
       "    </tr>\n",
       "    <tr>\n",
       "      <th>4</th>\n",
       "      <td>11</td>\n",
       "      <td>NaN</td>\n",
       "      <td>NaN</td>\n",
       "      <td>Typhoon Soudelor kills 28 in China and Taiwan</td>\n",
       "      <td>typhoon soudelor kill china taiwan</td>\n",
       "    </tr>\n",
       "  </tbody>\n",
       "</table>\n",
       "</div>"
      ],
      "text/plain": [
       "   id keyword location                                               text  \\\n",
       "0   0     NaN      NaN                 Just happened a terrible car crash   \n",
       "1   2     NaN      NaN  Heard about #earthquake is different cities, s...   \n",
       "2   3     NaN      NaN  there is a forest fire at spot pond, geese are...   \n",
       "3   9     NaN      NaN           Apocalypse lighting. #Spokane #wildfires   \n",
       "4  11     NaN      NaN      Typhoon Soudelor kills 28 in China and Taiwan   \n",
       "\n",
       "                                      processed_text  \n",
       "0                        happened terrible car crash  \n",
       "1  heard earthquake different city stay safe ever...  \n",
       "2  forest fire spot pond goose fleeing across str...  \n",
       "3               apocalypse lighting spokane wildfire  \n",
       "4                 typhoon soudelor kill china taiwan  "
      ]
     },
     "execution_count": 80,
     "metadata": {},
     "output_type": "execute_result"
    }
   ],
   "source": [
    "test_df.head()"
   ]
  },
  {
   "cell_type": "markdown",
   "metadata": {},
   "source": [
    "Now we can vectorize the text data "
   ]
  },
  {
   "cell_type": "markdown",
   "metadata": {},
   "source": [
    "###### first we are using count vectorizer"
   ]
  },
  {
   "cell_type": "code",
   "execution_count": 81,
   "metadata": {
    "execution": {
     "iopub.execute_input": "2021-09-29T16:23:54.716361Z",
     "iopub.status.busy": "2021-09-29T16:23:54.715994Z",
     "iopub.status.idle": "2021-09-29T16:23:54.882507Z",
     "shell.execute_reply": "2021-09-29T16:23:54.881806Z",
     "shell.execute_reply.started": "2021-09-29T16:23:54.716326Z"
    }
   },
   "outputs": [],
   "source": [
    "from sklearn import feature_extraction,linear_model,preprocessing,model_selection\n",
    "count_vect = feature_extraction.text.CountVectorizer()\n",
    "ex_train_vec = count_vect.fit_transform(train_df['processed_text'])\n",
    "ex_test_vec = count_vect.transform(test_df['processed_text'])"
   ]
  },
  {
   "cell_type": "code",
   "execution_count": 82,
   "metadata": {
    "execution": {
     "iopub.execute_input": "2021-09-29T16:23:54.884066Z",
     "iopub.status.busy": "2021-09-29T16:23:54.883801Z",
     "iopub.status.idle": "2021-09-29T16:23:55.005948Z",
     "shell.execute_reply": "2021-09-29T16:23:55.005298Z",
     "shell.execute_reply.started": "2021-09-29T16:23:54.884032Z"
    }
   },
   "outputs": [
    {
     "data": {
      "text/plain": [
       "(7613, 12840)"
      ]
     },
     "execution_count": 82,
     "metadata": {},
     "output_type": "execute_result"
    }
   ],
   "source": [
    "ex_train_vec.todense().shape"
   ]
  },
  {
   "cell_type": "code",
   "execution_count": 83,
   "metadata": {
    "execution": {
     "iopub.execute_input": "2021-09-29T16:23:55.007426Z",
     "iopub.status.busy": "2021-09-29T16:23:55.007178Z",
     "iopub.status.idle": "2021-09-29T16:23:55.057285Z",
     "shell.execute_reply": "2021-09-29T16:23:55.056468Z",
     "shell.execute_reply.started": "2021-09-29T16:23:55.007395Z"
    }
   },
   "outputs": [
    {
     "data": {
      "text/plain": [
       "(3263, 12840)"
      ]
     },
     "execution_count": 83,
     "metadata": {},
     "output_type": "execute_result"
    }
   ],
   "source": [
    "ex_test_vec.todense().shape"
   ]
  },
  {
   "cell_type": "markdown",
   "metadata": {},
   "source": [
    "we can see there are 12840 unique text"
   ]
  },
  {
   "cell_type": "code",
   "execution_count": 84,
   "metadata": {
    "execution": {
     "iopub.execute_input": "2021-09-29T16:23:55.059009Z",
     "iopub.status.busy": "2021-09-29T16:23:55.05875Z",
     "iopub.status.idle": "2021-09-29T16:23:55.062948Z",
     "shell.execute_reply": "2021-09-29T16:23:55.062051Z",
     "shell.execute_reply.started": "2021-09-29T16:23:55.058976Z"
    }
   },
   "outputs": [],
   "source": [
    "model = linear_model.RidgeClassifier()"
   ]
  },
  {
   "cell_type": "code",
   "execution_count": 85,
   "metadata": {
    "execution": {
     "iopub.execute_input": "2021-09-29T16:23:55.064845Z",
     "iopub.status.busy": "2021-09-29T16:23:55.06453Z",
     "iopub.status.idle": "2021-09-29T16:23:55.259449Z",
     "shell.execute_reply": "2021-09-29T16:23:55.258661Z",
     "shell.execute_reply.started": "2021-09-29T16:23:55.064796Z"
    }
   },
   "outputs": [],
   "source": [
    "score = model_selection.cross_val_score(model,ex_train_vec,train_df['target'],cv =4)"
   ]
  },
  {
   "cell_type": "code",
   "execution_count": 86,
   "metadata": {
    "execution": {
     "iopub.execute_input": "2021-09-29T16:23:55.261212Z",
     "iopub.status.busy": "2021-09-29T16:23:55.260782Z",
     "iopub.status.idle": "2021-09-29T16:23:55.266712Z",
     "shell.execute_reply": "2021-09-29T16:23:55.265987Z",
     "shell.execute_reply.started": "2021-09-29T16:23:55.261177Z"
    }
   },
   "outputs": [
    {
     "data": {
      "text/plain": [
       "array([0.69380252, 0.62795586, 0.63110878, 0.71045717])"
      ]
     },
     "execution_count": 86,
     "metadata": {},
     "output_type": "execute_result"
    }
   ],
   "source": [
    "score"
   ]
  },
  {
   "cell_type": "markdown",
   "metadata": {},
   "source": [
    "##### let Solve using tf-idf vectorisation"
   ]
  },
  {
   "cell_type": "markdown",
   "metadata": {},
   "source": [
    "https://www.etutorialspoint.com/index.php/386-tf-idf-tfidfvectorizer-tutorial-with-examples\n",
    "\n",
    "According to scikit-learn’s website, TfidfVectorizer is actually CountVectorizer followed by TfidfTransformer. CountVectorizer first takes our text documents and tokenizes them, as we did before (but then un-did because this function does not accept tokenized data as input). Once the data have been tokenized, CountVectorizer assembles a bag of words consisting of every unique token and assigning each a number. Finally, CountVectorizer represents the tokenized text data as a matrix of token counts, which looks like this:\n",
    "\n",
    "This image shows the first six rows of the CountVectorizer matrix. These rows tell us that in document 0, the words 368, 3403, 4146, 5201, 8491, and 11223 all appear once. We are interested in these counts because if a word appears many times in a document, that word is probably very significant.\n",
    "TfidfTransformer simply transforms this matrix of token counts to a term frequency-inverse document frequency (tf-idf) representation. Using tf-idf is important because simply using token counts can be misleading. Previously, we assumed that if a word appeared many times in a document, it was important. What if that word is extremely common in the entire corpus? Then it’s high frequency in our current document would be less significant, because the word appears so frequently elsewhere.\n",
    "Tf-idf strikes a balance by taking the term frequency (basically the count) and multiplying it by the inverse document frequency (1/document frequency). This means that if word 1 appears once in document A but also once in the total corpus, while word 2 appears four times in document A but 16 in the total corpus, word 1 will have a tf-idf score of 1.0 while word 2 will only receive a score of 0.25. Word 2’s importance in document A is diluted by its high frequency in the corpus. (This is a simplified explanation of the actual tf-idf equation, which is more complicated.)\n",
    "Hence, we arrive at this representation of document 0:\n",
    "\n",
    "Notice that in the CountVectorizer representation, all the tokens in document 1 appeared only once. Now, in the tf-idf representation, some tokens have higher scores than others. Tf-idf has added a layer of nuance to our data."
   ]
  },
  {
   "cell_type": "markdown",
   "metadata": {},
   "source": [
    "Lets combine test_df['processed_text'] and train_df['processed_text'] into corpus.\n",
    "\n",
    "by combining we can get the propotion of most occurance of the text "
   ]
  },
  {
   "cell_type": "code",
   "execution_count": 87,
   "metadata": {
    "execution": {
     "iopub.execute_input": "2021-09-29T16:23:55.268761Z",
     "iopub.status.busy": "2021-09-29T16:23:55.268247Z",
     "iopub.status.idle": "2021-09-29T16:23:55.277109Z",
     "shell.execute_reply": "2021-09-29T16:23:55.276414Z",
     "shell.execute_reply.started": "2021-09-29T16:23:55.268723Z"
    }
   },
   "outputs": [],
   "source": [
    "train_list = list(train_df['processed_text'])\n",
    "test_list = list(test_df['processed_text'])\n",
    "corpus = train_list+test_list"
   ]
  },
  {
   "cell_type": "code",
   "execution_count": 88,
   "metadata": {
    "execution": {
     "iopub.execute_input": "2021-09-29T16:23:55.279021Z",
     "iopub.status.busy": "2021-09-29T16:23:55.278447Z",
     "iopub.status.idle": "2021-09-29T16:23:55.287805Z",
     "shell.execute_reply": "2021-09-29T16:23:55.28707Z",
     "shell.execute_reply.started": "2021-09-29T16:23:55.278984Z"
    }
   },
   "outputs": [
    {
     "data": {
      "text/plain": [
       "['forest fire near la ronge sask canada',\n",
       " 'resident asked shelter place notified officer evacuation shelter place order expected',\n",
       " 'people receive wildfire evacuation order california',\n",
       " 'got sent photo ruby alaska smoke wildfire pours school']"
      ]
     },
     "execution_count": 88,
     "metadata": {},
     "output_type": "execute_result"
    }
   ],
   "source": [
    "corpus[1:5]"
   ]
  },
  {
   "cell_type": "code",
   "execution_count": 93,
   "metadata": {},
   "outputs": [],
   "source": [
    "from sklearn.model_selection import train_test_split\n",
    "X_train, X_valid, y_train, y_valid = train_test_split(train_df.processed_text, train_df.target, test_size=0.20, random_state=42)"
   ]
  },
  {
   "cell_type": "code",
   "execution_count": 94,
   "metadata": {
    "execution": {
     "iopub.execute_input": "2021-09-29T16:23:55.289811Z",
     "iopub.status.busy": "2021-09-29T16:23:55.289331Z",
     "iopub.status.idle": "2021-09-29T16:23:55.300647Z",
     "shell.execute_reply": "2021-09-29T16:23:55.299731Z",
     "shell.execute_reply.started": "2021-09-29T16:23:55.289777Z"
    }
   },
   "outputs": [],
   "source": [
    "from sklearn.feature_extraction.text import TfidfVectorizer\n",
    "tfidf = TfidfVectorizer(max_features=8000, ngram_range=(1,1))\n",
    "fit_vec = tfidf.fit(X_train)\n",
    "X_train = tfidf.transform(X_train)\n",
    "X_valid= tfidf.transform(X_valid)\n",
    "#y = train_df['target']\n",
    "#test_transform = tfidf.transform(test_df['processed_text'])"
   ]
  },
  {
   "cell_type": "code",
   "execution_count": 103,
   "metadata": {},
   "outputs": [
    {
     "name": "stdout",
     "output_type": "stream",
     "text": [
      "Note: you may need to restart the kernel to use updated packages.\n"
     ]
    },
    {
     "name": "stderr",
     "output_type": "stream",
     "text": [
      "'C:\\Users\\Aditya' is not recognized as an internal or external command,\n",
      "operable program or batch file.\n"
     ]
    }
   ],
   "source": [
    "pip install lightbgm"
   ]
  },
  {
   "cell_type": "code",
   "execution_count": 110,
   "metadata": {},
   "outputs": [],
   "source": [
    "\n",
    "# from sklearn.svm import SVC\n",
    "from sklearn.ensemble import RandomForestClassifier # , GradientBoostingClassifier\n",
    "\n",
    "from sklearn.model_selection import GridSearchCV\n",
    "\n",
    "# from xgboost import XGBClassifier\n",
    "from lightgbm.sklearn import LGBMClassifier"
   ]
  },
  {
   "cell_type": "code",
   "execution_count": 111,
   "metadata": {},
   "outputs": [],
   "source": [
    "models = [  \n",
    "    {\n",
    "        'name' : 'Light GBM Classifier',\n",
    "        'estimator' : LGBMClassifier(),\n",
    "        'params' : {'n_estimators': (50, 100, 150, 200, 500)}\n",
    "    }, \n",
    "    {\n",
    "        'name' : 'Random Forest Classifier',\n",
    "        'estimator' : RandomForestClassifier(),\n",
    "        'params' : {'n_estimators':(10, 50, 100, 150, 200)}\n",
    "    },\n",
    "]"
   ]
  },
  {
   "cell_type": "code",
   "execution_count": 112,
   "metadata": {},
   "outputs": [
    {
     "name": "stdout",
     "output_type": "stream",
     "text": [
      "Fitting 5 folds for each of 5 candidates, totalling 25 fits\n"
     ]
    },
    {
     "name": "stderr",
     "output_type": "stream",
     "text": [
      "[Parallel(n_jobs=3)]: Using backend LokyBackend with 3 concurrent workers.\n",
      "[Parallel(n_jobs=3)]: Done  25 out of  25 | elapsed:   15.1s finished\n"
     ]
    },
    {
     "name": "stdout",
     "output_type": "stream",
     "text": [
      "-------------------------------------\n",
      "Model: Light GBM Classifier , Score: 0.7721602101116218\n",
      "{'n_estimators': 50}, 0.77094, (-/+ 0.00576)\n",
      "{'n_estimators': 100}, 0.77701, (-/+ 0.00620)\n",
      "{'n_estimators': 150}, 0.77307, (-/+ 0.00700)\n",
      "{'n_estimators': 200}, 0.77307, (-/+ 0.00859)\n",
      "{'n_estimators': 500}, 0.76601, (-/+ 0.00890)\n",
      "Fitting 5 folds for each of 5 candidates, totalling 25 fits\n"
     ]
    },
    {
     "name": "stderr",
     "output_type": "stream",
     "text": [
      "[Parallel(n_jobs=3)]: Using backend LokyBackend with 3 concurrent workers.\n",
      "[Parallel(n_jobs=3)]: Done  25 out of  25 | elapsed:  3.9min finished\n"
     ]
    },
    {
     "name": "stdout",
     "output_type": "stream",
     "text": [
      "-------------------------------------\n",
      "Model: Random Forest Classifier , Score: 0.7852921864740644\n",
      "{'n_estimators': 10}, 0.76683, (-/+ 0.01140)\n",
      "{'n_estimators': 50}, 0.78062, (-/+ 0.00871)\n",
      "{'n_estimators': 100}, 0.78473, (-/+ 0.01153)\n",
      "{'n_estimators': 150}, 0.78440, (-/+ 0.00752)\n",
      "{'n_estimators': 200}, 0.78407, (-/+ 0.00930)\n"
     ]
    }
   ],
   "source": [
    "best_estimators = {}\n",
    "for model in models:\n",
    "    search = GridSearchCV(model['estimator'], param_grid=model['params'], verbose=1, n_jobs=1)\n",
    "    search.fit(X_train, y_train)\n",
    "    score = search.best_estimator_.score(X_valid, y_valid)\n",
    "    best_estimators[model['name']] = search.best_estimator_\n",
    "    print(\"-------------------------------------\")\n",
    "    print(\"Model:\", model[\"name\"], \", Score:\", score)\n",
    "    for param, mean_score, std_score in zip(search.cv_results_['params'], \n",
    "                                                search.cv_results_['mean_test_score'], \n",
    "                                                search.cv_results_['std_test_score']):\n",
    "        print(f\"{param}, {mean_score:.5f}, (-/+ {std_score:.5f})\")"
   ]
  },
  {
   "cell_type": "code",
   "execution_count": 113,
   "metadata": {},
   "outputs": [
    {
     "data": {
      "text/plain": [
       "{'bootstrap': True,\n",
       " 'ccp_alpha': 0.0,\n",
       " 'class_weight': None,\n",
       " 'criterion': 'gini',\n",
       " 'max_depth': None,\n",
       " 'max_features': 'auto',\n",
       " 'max_leaf_nodes': None,\n",
       " 'max_samples': None,\n",
       " 'min_impurity_decrease': 0.0,\n",
       " 'min_impurity_split': None,\n",
       " 'min_samples_leaf': 1,\n",
       " 'min_samples_split': 2,\n",
       " 'min_weight_fraction_leaf': 0.0,\n",
       " 'n_estimators': 100,\n",
       " 'n_jobs': None,\n",
       " 'oob_score': False,\n",
       " 'random_state': None,\n",
       " 'verbose': 0,\n",
       " 'warm_start': False}"
      ]
     },
     "execution_count": 113,
     "metadata": {},
     "output_type": "execute_result"
    }
   ],
   "source": [
    "best_model = best_estimators['Random Forest Classifier']\n",
    "best_model.get_params()"
   ]
  },
  {
   "cell_type": "code",
   "execution_count": 115,
   "metadata": {
    "execution": {
     "iopub.execute_input": "2021-09-29T16:27:19.682947Z",
     "iopub.status.busy": "2021-09-29T16:27:19.68218Z",
     "iopub.status.idle": "2021-09-29T16:27:31.883291Z",
     "shell.execute_reply": "2021-09-29T16:27:31.882378Z",
     "shell.execute_reply.started": "2021-09-29T16:27:19.682902Z"
    }
   },
   "outputs": [],
   "source": [
    "X_test = tfidf.transform(test_df[\"processed_text\"])\n",
    "scores = best_model.predict(X_test)"
   ]
  },
  {
   "cell_type": "code",
   "execution_count": 85,
   "metadata": {
    "execution": {
     "iopub.execute_input": "2021-09-29T16:24:43.65705Z",
     "iopub.status.busy": "2021-09-29T16:24:43.656802Z",
     "iopub.status.idle": "2021-09-29T16:24:43.661238Z",
     "shell.execute_reply": "2021-09-29T16:24:43.660373Z",
     "shell.execute_reply.started": "2021-09-29T16:24:43.657019Z"
    }
   },
   "outputs": [],
   "source": [
    "test_df['target'] = predict"
   ]
  },
  {
   "cell_type": "code",
   "execution_count": 86,
   "metadata": {
    "execution": {
     "iopub.execute_input": "2021-09-29T16:24:44.068725Z",
     "iopub.status.busy": "2021-09-29T16:24:44.068112Z",
     "iopub.status.idle": "2021-09-29T16:24:44.08259Z",
     "shell.execute_reply": "2021-09-29T16:24:44.081888Z",
     "shell.execute_reply.started": "2021-09-29T16:24:44.068679Z"
    }
   },
   "outputs": [],
   "source": [
    "test_df.to_csv('submission.csv',index=False)"
   ]
  },
  {
   "cell_type": "code",
   "execution_count": null,
   "metadata": {},
   "outputs": [],
   "source": []
  }
 ],
 "metadata": {
  "kernelspec": {
   "display_name": "Python 3",
   "language": "python",
   "name": "python3"
  },
  "language_info": {
   "codemirror_mode": {
    "name": "ipython",
    "version": 3
   },
   "file_extension": ".py",
   "mimetype": "text/x-python",
   "name": "python",
   "nbconvert_exporter": "python",
   "pygments_lexer": "ipython3",
   "version": "3.7.6"
  }
 },
 "nbformat": 4,
 "nbformat_minor": 4
}
